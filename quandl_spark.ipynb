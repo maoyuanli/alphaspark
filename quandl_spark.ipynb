{
 "cells": [
  {
   "cell_type": "code",
   "execution_count": 1,
   "metadata": {},
   "outputs": [],
   "source": [
    "from quandl_data_fetcher import QuandlDataFetcher\n",
    "from spark_initializer import SparkInitializer\n",
    "SparkInitializer.init_spark()\n",
    "import pyspark\n",
    "from pyspark.sql import SparkSession\n",
    "from pyspark.sql.types import *"
   ]
  },
  {
   "cell_type": "code",
   "execution_count": 2,
   "metadata": {},
   "outputs": [],
   "source": [
    "spark = SparkSession.builder.appName('Quandl').getOrCreate()"
   ]
  },
  {
   "cell_type": "code",
   "execution_count": 3,
   "metadata": {},
   "outputs": [],
   "source": [
    "from schema_repo import SchemaRepository"
   ]
  },
  {
   "cell_type": "code",
   "execution_count": 4,
   "metadata": {},
   "outputs": [],
   "source": [
    "INGA_pdf = QuandlDataFetcher.fetch_data('EURONEXT/INGA')"
   ]
  },
  {
   "cell_type": "code",
   "execution_count": 5,
   "metadata": {},
   "outputs": [
    {
     "data": {
      "text/html": [
       "<div>\n",
       "<style scoped>\n",
       "    .dataframe tbody tr th:only-of-type {\n",
       "        vertical-align: middle;\n",
       "    }\n",
       "\n",
       "    .dataframe tbody tr th {\n",
       "        vertical-align: top;\n",
       "    }\n",
       "\n",
       "    .dataframe thead th {\n",
       "        text-align: right;\n",
       "    }\n",
       "</style>\n",
       "<table border=\"1\" class=\"dataframe\">\n",
       "  <thead>\n",
       "    <tr style=\"text-align: right;\">\n",
       "      <th></th>\n",
       "      <th>Date</th>\n",
       "      <th>Open</th>\n",
       "      <th>High</th>\n",
       "      <th>Low</th>\n",
       "      <th>Last</th>\n",
       "      <th>Volume</th>\n",
       "      <th>Turnover</th>\n",
       "    </tr>\n",
       "  </thead>\n",
       "  <tbody>\n",
       "    <tr>\n",
       "      <th>0</th>\n",
       "      <td>2014-02-14</td>\n",
       "      <td>10.520</td>\n",
       "      <td>10.640</td>\n",
       "      <td>10.515</td>\n",
       "      <td>10.600</td>\n",
       "      <td>11457475.0</td>\n",
       "      <td>1.213135e+08</td>\n",
       "    </tr>\n",
       "    <tr>\n",
       "      <th>1</th>\n",
       "      <td>2014-02-17</td>\n",
       "      <td>10.655</td>\n",
       "      <td>10.680</td>\n",
       "      <td>10.590</td>\n",
       "      <td>10.610</td>\n",
       "      <td>7394038.0</td>\n",
       "      <td>7.853365e+07</td>\n",
       "    </tr>\n",
       "    <tr>\n",
       "      <th>2</th>\n",
       "      <td>2014-02-18</td>\n",
       "      <td>10.650</td>\n",
       "      <td>10.650</td>\n",
       "      <td>10.515</td>\n",
       "      <td>10.605</td>\n",
       "      <td>11580469.0</td>\n",
       "      <td>1.227616e+08</td>\n",
       "    </tr>\n",
       "    <tr>\n",
       "      <th>3</th>\n",
       "      <td>2014-02-19</td>\n",
       "      <td>10.575</td>\n",
       "      <td>10.595</td>\n",
       "      <td>10.415</td>\n",
       "      <td>10.475</td>\n",
       "      <td>11410268.0</td>\n",
       "      <td>1.196463e+08</td>\n",
       "    </tr>\n",
       "    <tr>\n",
       "      <th>4</th>\n",
       "      <td>2014-02-20</td>\n",
       "      <td>10.300</td>\n",
       "      <td>10.525</td>\n",
       "      <td>10.255</td>\n",
       "      <td>10.525</td>\n",
       "      <td>12632060.0</td>\n",
       "      <td>1.318363e+08</td>\n",
       "    </tr>\n",
       "  </tbody>\n",
       "</table>\n",
       "</div>"
      ],
      "text/plain": [
       "        Date    Open    High     Low    Last      Volume      Turnover\n",
       "0 2014-02-14  10.520  10.640  10.515  10.600  11457475.0  1.213135e+08\n",
       "1 2014-02-17  10.655  10.680  10.590  10.610   7394038.0  7.853365e+07\n",
       "2 2014-02-18  10.650  10.650  10.515  10.605  11580469.0  1.227616e+08\n",
       "3 2014-02-19  10.575  10.595  10.415  10.475  11410268.0  1.196463e+08\n",
       "4 2014-02-20  10.300  10.525  10.255  10.525  12632060.0  1.318363e+08"
      ]
     },
     "execution_count": 5,
     "metadata": {},
     "output_type": "execute_result"
    }
   ],
   "source": [
    "INGA_pdf.head()"
   ]
  },
  {
   "cell_type": "code",
   "execution_count": 6,
   "metadata": {},
   "outputs": [],
   "source": [
    "INGA_sdf = spark.createDataFrame(INGA_pdf, schema=SchemaRepository.stock_schema) "
   ]
  },
  {
   "cell_type": "code",
   "execution_count": 7,
   "metadata": {},
   "outputs": [
    {
     "name": "stdout",
     "output_type": "stream",
     "text": [
      "+----------+------+------+------+------+-----------+---------------+\n",
      "|      Date|  Open|  High|   Low|  Last|     Volumn|       Turnover|\n",
      "+----------+------+------+------+------+-----------+---------------+\n",
      "|2014-02-14| 10.52| 10.64|10.515|  10.6|1.1457475E7| 1.2131352577E8|\n",
      "|2014-02-17|10.655| 10.68| 10.59| 10.61|  7394038.0|  7.853364632E7|\n",
      "|2014-02-18| 10.65| 10.65|10.515|10.605|1.1580469E7| 1.2276160587E8|\n",
      "|2014-02-19|10.575|10.595|10.415|10.475|1.1410268E7| 1.1964634487E8|\n",
      "|2014-02-20|  10.3|10.525|10.255|10.525| 1.263206E7| 1.3183630136E8|\n",
      "|2014-02-21|  10.6|10.625|  10.5|10.545|1.1276993E7| 1.1893421816E8|\n",
      "|2014-02-24|  10.5|10.615| 10.47|10.615| 1.008318E7|1.06631915945E8|\n",
      "|2014-02-25|10.605| 10.67| 10.51|10.665|1.0274855E7| 1.0905679842E8|\n",
      "|2014-02-26| 10.68| 10.69| 10.51|10.525|  8740996.0|  9.249715499E7|\n",
      "|2014-02-27| 10.56| 10.57| 10.35|10.505| 1.203792E7| 1.2596515846E8|\n",
      "|2014-02-28|  10.6|  10.6|10.465| 10.57|1.0919098E7| 1.1520751868E8|\n",
      "|2014-03-05|10.405| 10.44|10.315| 10.36|1.0901554E7| 1.1317628846E8|\n",
      "|2014-03-06|10.425|  10.5|10.365| 10.41|1.1019542E7| 1.1488783604E8|\n",
      "|2014-03-07| 10.39| 10.42|10.175|10.205|1.6119494E7| 1.6601754139E8|\n",
      "|2014-03-10|10.195|10.385|10.065| 10.13|1.5261481E7| 1.5585845986E8|\n",
      "|2014-03-11| 10.23|10.425|10.215|10.355|1.6135405E7| 1.6680182318E8|\n",
      "|2014-03-12|10.255|10.375|10.135|10.275|1.7725059E7|1.81627849915E8|\n",
      "|2014-03-13|10.285| 10.32| 9.956|  9.96|1.7429395E7|1.76260246159E8|\n",
      "|2014-03-14|  9.85| 9.875| 9.573| 9.671|4.0954444E7| 3.9825228085E8|\n",
      "|2014-03-17| 9.765| 10.04| 9.748|  10.0|2.0787153E7|  2.065374638E8|\n",
      "+----------+------+------+------+------+-----------+---------------+\n",
      "only showing top 20 rows\n",
      "\n"
     ]
    }
   ],
   "source": [
    "INGA_sdf.show()"
   ]
  },
  {
   "cell_type": "code",
   "execution_count": 8,
   "metadata": {},
   "outputs": [
    {
     "name": "stdout",
     "output_type": "stream",
     "text": [
      "root\n",
      " |-- Date: date (nullable = true)\n",
      " |-- Open: float (nullable = true)\n",
      " |-- High: float (nullable = true)\n",
      " |-- Low: float (nullable = true)\n",
      " |-- Last: float (nullable = true)\n",
      " |-- Volumn: double (nullable = true)\n",
      " |-- Turnover: double (nullable = true)\n",
      "\n"
     ]
    }
   ],
   "source": [
    "INGA_sdf.printSchema()"
   ]
  },
  {
   "cell_type": "code",
   "execution_count": 9,
   "metadata": {},
   "outputs": [
    {
     "name": "stdout",
     "output_type": "stream",
     "text": [
      "+-------+------------------+------------------+------------------+------------------+--------------------+--------------------+\n",
      "|summary|              Open|              High|               Low|              Last|              Volumn|            Turnover|\n",
      "+-------+------------------+------------------+------------------+------------------+--------------------+--------------------+\n",
      "|  count|              1444|              1444|              1444|              1444|                1444|                1444|\n",
      "|   mean|12.206536019607924| 12.32570014369785|12.068529792769795|12.196765926736214|1.7265655056094185E7|2.0797808585373408E8|\n",
      "| stddev|2.0230570920832642|2.0194998830533812|2.0249692339490704| 2.024407075177556|   7577272.419911956|  8.86834134610199E7|\n",
      "|    min|              8.35|             8.471|             8.197|             8.335|           1730312.0|       2.023141016E7|\n",
      "|    max|             16.64|            16.692|            16.516|            16.666|         9.7104846E7|     9.02233157705E8|\n",
      "+-------+------------------+------------------+------------------+------------------+--------------------+--------------------+\n",
      "\n"
     ]
    }
   ],
   "source": [
    "INGA_sdf.describe().show()"
   ]
  },
  {
   "cell_type": "code",
   "execution_count": 10,
   "metadata": {},
   "outputs": [
    {
     "data": {
      "text/plain": [
       "['Date', 'Open', 'High', 'Low', 'Last', 'Volumn', 'Turnover']"
      ]
     },
     "execution_count": 10,
     "metadata": {},
     "output_type": "execute_result"
    }
   ],
   "source": [
    "INGA_sdf.columns"
   ]
  }
 ],
 "metadata": {
  "kernelspec": {
   "display_name": "alphasparkenv",
   "language": "python",
   "name": "alphasparkenv"
  },
  "language_info": {
   "codemirror_mode": {
    "name": "ipython",
    "version": 3
   },
   "file_extension": ".py",
   "mimetype": "text/x-python",
   "name": "python",
   "nbconvert_exporter": "python",
   "pygments_lexer": "ipython3",
   "version": "3.7.3"
  }
 },
 "nbformat": 4,
 "nbformat_minor": 4
}
