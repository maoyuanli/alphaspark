{
 "cells": [
  {
   "cell_type": "code",
   "execution_count": 2,
   "metadata": {},
   "outputs": [],
   "source": [
    "from utils.quandl_data_fetcher import QuandlDataFetcher\n",
    "from utils.spark_initializer import SparkInitializer\n",
    "SparkInitializer.init_spark()\n",
    "import pyspark\n",
    "from pyspark.sql import SparkSession\n",
    "from pyspark.sql.types import *"
   ]
  },
  {
   "cell_type": "code",
   "execution_count": 3,
   "metadata": {},
   "outputs": [],
   "source": [
    "spark = SparkSession.builder.appName('Quandl').getOrCreate()"
   ]
  },
  {
   "cell_type": "code",
   "execution_count": 5,
   "metadata": {},
   "outputs": [],
   "source": [
    "from utils.schema_repo import SchemaRepository"
   ]
  },
  {
   "cell_type": "code",
   "execution_count": 6,
   "metadata": {},
   "outputs": [],
   "source": [
    "INGA_pdf = QuandlDataFetcher.fetch_data('EURONEXT/INGA')"
   ]
  },
  {
   "cell_type": "code",
   "execution_count": 7,
   "metadata": {},
   "outputs": [
    {
     "data": {
      "text/html": [
       "<div>\n",
       "<style scoped>\n",
       "    .dataframe tbody tr th:only-of-type {\n",
       "        vertical-align: middle;\n",
       "    }\n",
       "\n",
       "    .dataframe tbody tr th {\n",
       "        vertical-align: top;\n",
       "    }\n",
       "\n",
       "    .dataframe thead th {\n",
       "        text-align: right;\n",
       "    }\n",
       "</style>\n",
       "<table border=\"1\" class=\"dataframe\">\n",
       "  <thead>\n",
       "    <tr style=\"text-align: right;\">\n",
       "      <th></th>\n",
       "      <th>Date</th>\n",
       "      <th>Open</th>\n",
       "      <th>High</th>\n",
       "      <th>Low</th>\n",
       "      <th>Last</th>\n",
       "      <th>Volume</th>\n",
       "      <th>Turnover</th>\n",
       "    </tr>\n",
       "  </thead>\n",
       "  <tbody>\n",
       "    <tr>\n",
       "      <th>0</th>\n",
       "      <td>2014-02-14</td>\n",
       "      <td>10.520</td>\n",
       "      <td>10.640</td>\n",
       "      <td>10.515</td>\n",
       "      <td>10.600</td>\n",
       "      <td>11457475.0</td>\n",
       "      <td>1.213135e+08</td>\n",
       "    </tr>\n",
       "    <tr>\n",
       "      <th>1</th>\n",
       "      <td>2014-02-17</td>\n",
       "      <td>10.655</td>\n",
       "      <td>10.680</td>\n",
       "      <td>10.590</td>\n",
       "      <td>10.610</td>\n",
       "      <td>7394038.0</td>\n",
       "      <td>7.853365e+07</td>\n",
       "    </tr>\n",
       "    <tr>\n",
       "      <th>2</th>\n",
       "      <td>2014-02-18</td>\n",
       "      <td>10.650</td>\n",
       "      <td>10.650</td>\n",
       "      <td>10.515</td>\n",
       "      <td>10.605</td>\n",
       "      <td>11580469.0</td>\n",
       "      <td>1.227616e+08</td>\n",
       "    </tr>\n",
       "    <tr>\n",
       "      <th>3</th>\n",
       "      <td>2014-02-19</td>\n",
       "      <td>10.575</td>\n",
       "      <td>10.595</td>\n",
       "      <td>10.415</td>\n",
       "      <td>10.475</td>\n",
       "      <td>11410268.0</td>\n",
       "      <td>1.196463e+08</td>\n",
       "    </tr>\n",
       "    <tr>\n",
       "      <th>4</th>\n",
       "      <td>2014-02-20</td>\n",
       "      <td>10.300</td>\n",
       "      <td>10.525</td>\n",
       "      <td>10.255</td>\n",
       "      <td>10.525</td>\n",
       "      <td>12632060.0</td>\n",
       "      <td>1.318363e+08</td>\n",
       "    </tr>\n",
       "  </tbody>\n",
       "</table>\n",
       "</div>"
      ],
      "text/plain": [
       "        Date    Open    High     Low    Last      Volume      Turnover\n",
       "0 2014-02-14  10.520  10.640  10.515  10.600  11457475.0  1.213135e+08\n",
       "1 2014-02-17  10.655  10.680  10.590  10.610   7394038.0  7.853365e+07\n",
       "2 2014-02-18  10.650  10.650  10.515  10.605  11580469.0  1.227616e+08\n",
       "3 2014-02-19  10.575  10.595  10.415  10.475  11410268.0  1.196463e+08\n",
       "4 2014-02-20  10.300  10.525  10.255  10.525  12632060.0  1.318363e+08"
      ]
     },
     "execution_count": 7,
     "metadata": {},
     "output_type": "execute_result"
    }
   ],
   "source": [
    "INGA_pdf.head()"
   ]
  },
  {
   "cell_type": "code",
   "execution_count": 8,
   "metadata": {},
   "outputs": [],
   "source": [
    "INGA_sdf = spark.createDataFrame(INGA_pdf, schema=SchemaRepository.stock_schema) "
   ]
  },
  {
   "cell_type": "code",
   "execution_count": 9,
   "metadata": {},
   "outputs": [
    {
     "name": "stdout",
     "output_type": "stream",
     "text": [
      "+----------+------+------+------+------+-----------+---------------+\n",
      "|      Date|  Open|  High|   Low|  Last|     Volumn|       Turnover|\n",
      "+----------+------+------+------+------+-----------+---------------+\n",
      "|2014-02-14| 10.52| 10.64|10.515|  10.6|1.1457475E7| 1.2131352577E8|\n",
      "|2014-02-17|10.655| 10.68| 10.59| 10.61|  7394038.0|  7.853364632E7|\n",
      "|2014-02-18| 10.65| 10.65|10.515|10.605|1.1580469E7| 1.2276160587E8|\n",
      "|2014-02-19|10.575|10.595|10.415|10.475|1.1410268E7| 1.1964634487E8|\n",
      "|2014-02-20|  10.3|10.525|10.255|10.525| 1.263206E7| 1.3183630136E8|\n",
      "|2014-02-21|  10.6|10.625|  10.5|10.545|1.1276993E7| 1.1893421816E8|\n",
      "|2014-02-24|  10.5|10.615| 10.47|10.615| 1.008318E7|1.06631915945E8|\n",
      "|2014-02-25|10.605| 10.67| 10.51|10.665|1.0274855E7| 1.0905679842E8|\n",
      "|2014-02-26| 10.68| 10.69| 10.51|10.525|  8740996.0|  9.249715499E7|\n",
      "|2014-02-27| 10.56| 10.57| 10.35|10.505| 1.203792E7| 1.2596515846E8|\n",
      "|2014-02-28|  10.6|  10.6|10.465| 10.57|1.0919098E7| 1.1520751868E8|\n",
      "|2014-03-05|10.405| 10.44|10.315| 10.36|1.0901554E7| 1.1317628846E8|\n",
      "|2014-03-06|10.425|  10.5|10.365| 10.41|1.1019542E7| 1.1488783604E8|\n",
      "|2014-03-07| 10.39| 10.42|10.175|10.205|1.6119494E7| 1.6601754139E8|\n",
      "|2014-03-10|10.195|10.385|10.065| 10.13|1.5261481E7| 1.5585845986E8|\n",
      "|2014-03-11| 10.23|10.425|10.215|10.355|1.6135405E7| 1.6680182318E8|\n",
      "|2014-03-12|10.255|10.375|10.135|10.275|1.7725059E7|1.81627849915E8|\n",
      "|2014-03-13|10.285| 10.32| 9.956|  9.96|1.7429395E7|1.76260246159E8|\n",
      "|2014-03-14|  9.85| 9.875| 9.573| 9.671|4.0954444E7| 3.9825228085E8|\n",
      "|2014-03-17| 9.765| 10.04| 9.748|  10.0|2.0787153E7|  2.065374638E8|\n",
      "+----------+------+------+------+------+-----------+---------------+\n",
      "only showing top 20 rows\n",
      "\n"
     ]
    }
   ],
   "source": [
    "INGA_sdf.show()"
   ]
  },
  {
   "cell_type": "code",
   "execution_count": 10,
   "metadata": {},
   "outputs": [
    {
     "name": "stdout",
     "output_type": "stream",
     "text": [
      "root\n",
      " |-- Date: date (nullable = true)\n",
      " |-- Open: float (nullable = true)\n",
      " |-- High: float (nullable = true)\n",
      " |-- Low: float (nullable = true)\n",
      " |-- Last: float (nullable = true)\n",
      " |-- Volumn: double (nullable = true)\n",
      " |-- Turnover: double (nullable = true)\n",
      "\n"
     ]
    }
   ],
   "source": [
    "INGA_sdf.printSchema()"
   ]
  },
  {
   "cell_type": "code",
   "execution_count": 11,
   "metadata": {},
   "outputs": [
    {
     "name": "stdout",
     "output_type": "stream",
     "text": [
      "+-------+------------------+------------------+-----------------+-----------------+--------------------+--------------------+\n",
      "|summary|              Open|              High|              Low|             Last|              Volumn|            Turnover|\n",
      "+-------+------------------+------------------+-----------------+-----------------+--------------------+--------------------+\n",
      "|  count|              1445|              1445|             1445|             1445|                1445|                1445|\n",
      "|   mean|12.205299662553728|12.324435299408064|12.06736956467678|12.19555294010466|1.7261211542560555E7|2.0791255484968305E8|\n",
      "| stddev| 2.022902487223828| 2.019372964767173|2.024748348180117|2.024231207669432|   7576531.360696883|  8.86876913860459E7|\n",
      "|    min|              8.35|             8.471|            8.197|            8.335|           1730312.0|       2.023141016E7|\n",
      "|    max|             16.64|            16.692|           16.516|           16.666|         9.7104846E7|     9.02233157705E8|\n",
      "+-------+------------------+------------------+-----------------+-----------------+--------------------+--------------------+\n",
      "\n"
     ]
    }
   ],
   "source": [
    "INGA_sdf.describe().show()"
   ]
  },
  {
   "cell_type": "code",
   "execution_count": 12,
   "metadata": {},
   "outputs": [
    {
     "data": {
      "text/plain": [
       "Row(Date=datetime.date(2014, 2, 14), Open=10.520000457763672, High=10.640000343322754, Low=10.515000343322754, Last=10.600000381469727, Volumn=11457475.0, Turnover=121313525.77)"
      ]
     },
     "execution_count": 12,
     "metadata": {},
     "output_type": "execute_result"
    }
   ],
   "source": [
    "INGA_sdf.head(5)[0]"
   ]
  },
  {
   "cell_type": "code",
   "execution_count": 13,
   "metadata": {},
   "outputs": [
    {
     "name": "stdout",
     "output_type": "stream",
     "text": [
      "+----------+------+------+------+------+-----------+---------------+----------+\n",
      "|      Date|  Open|  High|   Low|  Last|     Volumn|       Turnover|DoubleOpen|\n",
      "+----------+------+------+------+------+-----------+---------------+----------+\n",
      "|2014-02-14| 10.52| 10.64|10.515|  10.6|1.1457475E7| 1.2131352577E8|     21.04|\n",
      "|2014-02-17|10.655| 10.68| 10.59| 10.61|  7394038.0|  7.853364632E7|     21.31|\n",
      "|2014-02-18| 10.65| 10.65|10.515|10.605|1.1580469E7| 1.2276160587E8|      21.3|\n",
      "|2014-02-19|10.575|10.595|10.415|10.475|1.1410268E7| 1.1964634487E8|     21.15|\n",
      "|2014-02-20|  10.3|10.525|10.255|10.525| 1.263206E7| 1.3183630136E8|      20.6|\n",
      "|2014-02-21|  10.6|10.625|  10.5|10.545|1.1276993E7| 1.1893421816E8|      21.2|\n",
      "|2014-02-24|  10.5|10.615| 10.47|10.615| 1.008318E7|1.06631915945E8|      21.0|\n",
      "|2014-02-25|10.605| 10.67| 10.51|10.665|1.0274855E7| 1.0905679842E8|     21.21|\n",
      "|2014-02-26| 10.68| 10.69| 10.51|10.525|  8740996.0|  9.249715499E7|     21.36|\n",
      "|2014-02-27| 10.56| 10.57| 10.35|10.505| 1.203792E7| 1.2596515846E8|     21.12|\n",
      "|2014-02-28|  10.6|  10.6|10.465| 10.57|1.0919098E7| 1.1520751868E8|      21.2|\n",
      "|2014-03-05|10.405| 10.44|10.315| 10.36|1.0901554E7| 1.1317628846E8|     20.81|\n",
      "|2014-03-06|10.425|  10.5|10.365| 10.41|1.1019542E7| 1.1488783604E8|     20.85|\n",
      "|2014-03-07| 10.39| 10.42|10.175|10.205|1.6119494E7| 1.6601754139E8|     20.78|\n",
      "|2014-03-10|10.195|10.385|10.065| 10.13|1.5261481E7| 1.5585845986E8|     20.39|\n",
      "|2014-03-11| 10.23|10.425|10.215|10.355|1.6135405E7| 1.6680182318E8|     20.46|\n",
      "|2014-03-12|10.255|10.375|10.135|10.275|1.7725059E7|1.81627849915E8|     20.51|\n",
      "|2014-03-13|10.285| 10.32| 9.956|  9.96|1.7429395E7|1.76260246159E8|     20.57|\n",
      "|2014-03-14|  9.85| 9.875| 9.573| 9.671|4.0954444E7| 3.9825228085E8|      19.7|\n",
      "|2014-03-17| 9.765| 10.04| 9.748|  10.0|2.0787153E7|  2.065374638E8|     19.53|\n",
      "+----------+------+------+------+------+-----------+---------------+----------+\n",
      "only showing top 20 rows\n",
      "\n"
     ]
    }
   ],
   "source": [
    "INGA_sdf.withColumn('DoubleOpen', INGA_sdf['Open']*2).show()"
   ]
  },
  {
   "cell_type": "code",
   "execution_count": 14,
   "metadata": {},
   "outputs": [],
   "source": [
    "INGA_sdf.createOrReplaceTempView('inga')"
   ]
  },
  {
   "cell_type": "code",
   "execution_count": 50,
   "metadata": {},
   "outputs": [
    {
     "name": "stdout",
     "output_type": "stream",
     "text": [
      "+----------+-----+-----+------+------+-----------+----------------+\n",
      "|      Date| Open| High|   Low|  Last|     Volumn|        Turnover|\n",
      "+----------+-----+-----+------+------+-----------+----------------+\n",
      "|2018-01-12|16.63|16.69|16.494|16.612|1.4569804E7| 2.41759308908E8|\n",
      "|2018-01-15| 16.6|16.64|16.516| 16.59|  9268094.0|1.537521140062E8|\n",
      "|2018-01-23|16.64|16.65|16.206|16.364|2.1670624E7| 3.55128283566E8|\n",
      "+----------+-----+-----+------+------+-----------+----------------+\n",
      "\n"
     ]
    }
   ],
   "source": [
    "sql_rslt = spark.sql('select * from inga where high > 16.5 and open > 16.6')\n",
    "sql_rslt.show()"
   ]
  },
  {
   "cell_type": "code",
   "execution_count": 51,
   "metadata": {},
   "outputs": [
    {
     "name": "stdout",
     "output_type": "stream",
     "text": [
      "+----------+-----+-----+------+------+-----------+----------------+\n",
      "|      Date| Open| High|   Low|  Last|     Volumn|        Turnover|\n",
      "+----------+-----+-----+------+------+-----------+----------------+\n",
      "|2018-01-12|16.63|16.69|16.494|16.612|1.4569804E7| 2.41759308908E8|\n",
      "|2018-01-15| 16.6|16.64|16.516| 16.59|  9268094.0|1.537521140062E8|\n",
      "|2018-01-23|16.64|16.65|16.206|16.364|2.1670624E7| 3.55128283566E8|\n",
      "+----------+-----+-----+------+------+-----------+----------------+\n",
      "\n"
     ]
    }
   ],
   "source": [
    "spk_rslt = INGA_sdf.filter('high > 16.5' and 'open > 16.6')\n",
    "spk_rslt.show()"
   ]
  },
  {
   "cell_type": "code",
   "execution_count": 52,
   "metadata": {},
   "outputs": [
    {
     "name": "stdout",
     "output_type": "stream",
     "text": [
      "+----------+-----+-----+------+------+-----------+----------------+\n",
      "|      Date| Open| High|   Low|  Last|     Volumn|        Turnover|\n",
      "+----------+-----+-----+------+------+-----------+----------------+\n",
      "|2018-01-12|16.63|16.69|16.494|16.612|1.4569804E7| 2.41759308908E8|\n",
      "|2018-01-15| 16.6|16.64|16.516| 16.59|  9268094.0|1.537521140062E8|\n",
      "|2018-01-23|16.64|16.65|16.206|16.364|2.1670624E7| 3.55128283566E8|\n",
      "+----------+-----+-----+------+------+-----------+----------------+\n",
      "\n"
     ]
    }
   ],
   "source": [
    "cond1 = INGA_sdf['High'] > 16.5\n",
    "cond2 = INGA_sdf['Open'] > 16.6\n",
    "py_rslt = INGA_sdf.filter(cond1 & cond2)\n",
    "py_rslt.show()"
   ]
  },
  {
   "cell_type": "code",
   "execution_count": 53,
   "metadata": {},
   "outputs": [],
   "source": [
    "cpy_rslt = py_rslt.collect()"
   ]
  },
  {
   "cell_type": "code",
   "execution_count": 54,
   "metadata": {},
   "outputs": [
    {
     "data": {
      "text/plain": [
       "list"
      ]
     },
     "execution_count": 54,
     "metadata": {},
     "output_type": "execute_result"
    }
   ],
   "source": [
    "type(cpy_rslt)"
   ]
  },
  {
   "cell_type": "code",
   "execution_count": 59,
   "metadata": {},
   "outputs": [
    {
     "data": {
      "text/plain": [
       "{'Date': datetime.date(2018, 1, 12),\n",
       " 'Open': 16.6299991607666,\n",
       " 'High': 16.690000534057617,\n",
       " 'Low': 16.493999481201172,\n",
       " 'Last': 16.61199951171875,\n",
       " 'Volumn': 14569804.0,\n",
       " 'Turnover': 241759308.908}"
      ]
     },
     "execution_count": 59,
     "metadata": {},
     "output_type": "execute_result"
    }
   ],
   "source": [
    "cpy_rslt[0].asDict()"
   ]
  },
  {
   "cell_type": "code",
   "execution_count": null,
   "metadata": {},
   "outputs": [],
   "source": []
  }
 ],
 "metadata": {
  "kernelspec": {
   "display_name": "alphasparkenv",
   "language": "python",
   "name": "alphasparkenv"
  },
  "language_info": {
   "codemirror_mode": {
    "name": "ipython",
    "version": 3
   },
   "file_extension": ".py",
   "mimetype": "text/x-python",
   "name": "python",
   "nbconvert_exporter": "python",
   "pygments_lexer": "ipython3",
   "version": "3.7.3"
  }
 },
 "nbformat": 4,
 "nbformat_minor": 4
}
