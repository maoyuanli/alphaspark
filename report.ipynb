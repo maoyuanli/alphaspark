{
 "cells": [
  {
   "cell_type": "code",
   "execution_count": 1,
   "metadata": {},
   "outputs": [],
   "source": [
    "from utils.quandl_data_fetcher import QuandlDataFetcher\n",
    "from utils.spark_initializer import SparkInitializer\n",
    "SparkInitializer.init_spark()\n",
    "import pyspark\n",
    "from pyspark.sql import SparkSession\n",
    "from pyspark.sql.functions import year, month, dayofmonth, avg, format_number\n",
    "from pyspark.sql.types import StructType, StructField, DateType, DoubleType"
   ]
  },
  {
   "cell_type": "code",
   "execution_count": 2,
   "metadata": {},
   "outputs": [],
   "source": [
    "spark = SparkSession.builder.appName('Quandl').getOrCreate()"
   ]
  },
  {
   "cell_type": "markdown",
   "metadata": {},
   "source": [
    "### consume data from Quandl API"
   ]
  },
  {
   "cell_type": "code",
   "execution_count": 3,
   "metadata": {},
   "outputs": [],
   "source": [
    "# ING GROEP N.V. stock price data in Euronext \n",
    "pdf = QuandlDataFetcher.fetch_data('EURONEXT/INGA')"
   ]
  },
  {
   "cell_type": "code",
   "execution_count": 4,
   "metadata": {},
   "outputs": [
    {
     "data": {
      "text/html": [
       "<div>\n",
       "<style scoped>\n",
       "    .dataframe tbody tr th:only-of-type {\n",
       "        vertical-align: middle;\n",
       "    }\n",
       "\n",
       "    .dataframe tbody tr th {\n",
       "        vertical-align: top;\n",
       "    }\n",
       "\n",
       "    .dataframe thead th {\n",
       "        text-align: right;\n",
       "    }\n",
       "</style>\n",
       "<table border=\"1\" class=\"dataframe\">\n",
       "  <thead>\n",
       "    <tr style=\"text-align: right;\">\n",
       "      <th></th>\n",
       "      <th>Date</th>\n",
       "      <th>Open</th>\n",
       "      <th>High</th>\n",
       "      <th>Low</th>\n",
       "      <th>Last</th>\n",
       "      <th>Volume</th>\n",
       "      <th>Turnover</th>\n",
       "    </tr>\n",
       "  </thead>\n",
       "  <tbody>\n",
       "    <tr>\n",
       "      <th>0</th>\n",
       "      <td>2014-02-14</td>\n",
       "      <td>10.520</td>\n",
       "      <td>10.640</td>\n",
       "      <td>10.515</td>\n",
       "      <td>10.600</td>\n",
       "      <td>11457475.0</td>\n",
       "      <td>1.213135e+08</td>\n",
       "    </tr>\n",
       "    <tr>\n",
       "      <th>1</th>\n",
       "      <td>2014-02-17</td>\n",
       "      <td>10.655</td>\n",
       "      <td>10.680</td>\n",
       "      <td>10.590</td>\n",
       "      <td>10.610</td>\n",
       "      <td>7394038.0</td>\n",
       "      <td>7.853365e+07</td>\n",
       "    </tr>\n",
       "    <tr>\n",
       "      <th>2</th>\n",
       "      <td>2014-02-18</td>\n",
       "      <td>10.650</td>\n",
       "      <td>10.650</td>\n",
       "      <td>10.515</td>\n",
       "      <td>10.605</td>\n",
       "      <td>11580469.0</td>\n",
       "      <td>1.227616e+08</td>\n",
       "    </tr>\n",
       "    <tr>\n",
       "      <th>3</th>\n",
       "      <td>2014-02-19</td>\n",
       "      <td>10.575</td>\n",
       "      <td>10.595</td>\n",
       "      <td>10.415</td>\n",
       "      <td>10.475</td>\n",
       "      <td>11410268.0</td>\n",
       "      <td>1.196463e+08</td>\n",
       "    </tr>\n",
       "    <tr>\n",
       "      <th>4</th>\n",
       "      <td>2014-02-20</td>\n",
       "      <td>10.300</td>\n",
       "      <td>10.525</td>\n",
       "      <td>10.255</td>\n",
       "      <td>10.525</td>\n",
       "      <td>12632060.0</td>\n",
       "      <td>1.318363e+08</td>\n",
       "    </tr>\n",
       "    <tr>\n",
       "      <th>5</th>\n",
       "      <td>2014-02-21</td>\n",
       "      <td>10.600</td>\n",
       "      <td>10.625</td>\n",
       "      <td>10.500</td>\n",
       "      <td>10.545</td>\n",
       "      <td>11276993.0</td>\n",
       "      <td>1.189342e+08</td>\n",
       "    </tr>\n",
       "    <tr>\n",
       "      <th>6</th>\n",
       "      <td>2014-02-24</td>\n",
       "      <td>10.500</td>\n",
       "      <td>10.615</td>\n",
       "      <td>10.470</td>\n",
       "      <td>10.615</td>\n",
       "      <td>10083180.0</td>\n",
       "      <td>1.066319e+08</td>\n",
       "    </tr>\n",
       "    <tr>\n",
       "      <th>7</th>\n",
       "      <td>2014-02-25</td>\n",
       "      <td>10.605</td>\n",
       "      <td>10.670</td>\n",
       "      <td>10.510</td>\n",
       "      <td>10.665</td>\n",
       "      <td>10274855.0</td>\n",
       "      <td>1.090568e+08</td>\n",
       "    </tr>\n",
       "    <tr>\n",
       "      <th>8</th>\n",
       "      <td>2014-02-26</td>\n",
       "      <td>10.680</td>\n",
       "      <td>10.690</td>\n",
       "      <td>10.510</td>\n",
       "      <td>10.525</td>\n",
       "      <td>8740996.0</td>\n",
       "      <td>9.249715e+07</td>\n",
       "    </tr>\n",
       "    <tr>\n",
       "      <th>9</th>\n",
       "      <td>2014-02-27</td>\n",
       "      <td>10.560</td>\n",
       "      <td>10.570</td>\n",
       "      <td>10.350</td>\n",
       "      <td>10.505</td>\n",
       "      <td>12037920.0</td>\n",
       "      <td>1.259652e+08</td>\n",
       "    </tr>\n",
       "  </tbody>\n",
       "</table>\n",
       "</div>"
      ],
      "text/plain": [
       "        Date    Open    High     Low    Last      Volume      Turnover\n",
       "0 2014-02-14  10.520  10.640  10.515  10.600  11457475.0  1.213135e+08\n",
       "1 2014-02-17  10.655  10.680  10.590  10.610   7394038.0  7.853365e+07\n",
       "2 2014-02-18  10.650  10.650  10.515  10.605  11580469.0  1.227616e+08\n",
       "3 2014-02-19  10.575  10.595  10.415  10.475  11410268.0  1.196463e+08\n",
       "4 2014-02-20  10.300  10.525  10.255  10.525  12632060.0  1.318363e+08\n",
       "5 2014-02-21  10.600  10.625  10.500  10.545  11276993.0  1.189342e+08\n",
       "6 2014-02-24  10.500  10.615  10.470  10.615  10083180.0  1.066319e+08\n",
       "7 2014-02-25  10.605  10.670  10.510  10.665  10274855.0  1.090568e+08\n",
       "8 2014-02-26  10.680  10.690  10.510  10.525   8740996.0  9.249715e+07\n",
       "9 2014-02-27  10.560  10.570  10.350  10.505  12037920.0  1.259652e+08"
      ]
     },
     "execution_count": 4,
     "metadata": {},
     "output_type": "execute_result"
    }
   ],
   "source": [
    "pdf.head(10)"
   ]
  },
  {
   "cell_type": "markdown",
   "metadata": {},
   "source": [
    "### transform Pandas DataFrame into Spark DataFrame"
   ]
  },
  {
   "cell_type": "code",
   "execution_count": 5,
   "metadata": {},
   "outputs": [],
   "source": [
    "stock_schema = StructType([StructField('Date', DateType(), True),\n",
    "                           StructField('Open', DoubleType(), True),\n",
    "                           StructField('High', DoubleType(), True),\n",
    "                           StructField('Low', DoubleType(), True),\n",
    "                           StructField('Last', DoubleType(), True),\n",
    "                           StructField('Volumn', DoubleType(), True),\n",
    "                           StructField('Turnover', DoubleType(), True), ])"
   ]
  },
  {
   "cell_type": "code",
   "execution_count": 6,
   "metadata": {},
   "outputs": [
    {
     "name": "stdout",
     "output_type": "stream",
     "text": [
      "+----------+------+------+------+------+-----------+---------------+\n",
      "|      Date|  Open|  High|   Low|  Last|     Volumn|       Turnover|\n",
      "+----------+------+------+------+------+-----------+---------------+\n",
      "|2014-02-14| 10.52| 10.64|10.515|  10.6|1.1457475E7| 1.2131352577E8|\n",
      "|2014-02-17|10.655| 10.68| 10.59| 10.61|  7394038.0|  7.853364632E7|\n",
      "|2014-02-18| 10.65| 10.65|10.515|10.605|1.1580469E7| 1.2276160587E8|\n",
      "|2014-02-19|10.575|10.595|10.415|10.475|1.1410268E7| 1.1964634487E8|\n",
      "|2014-02-20|  10.3|10.525|10.255|10.525| 1.263206E7| 1.3183630136E8|\n",
      "|2014-02-21|  10.6|10.625|  10.5|10.545|1.1276993E7| 1.1893421816E8|\n",
      "|2014-02-24|  10.5|10.615| 10.47|10.615| 1.008318E7|1.06631915945E8|\n",
      "|2014-02-25|10.605| 10.67| 10.51|10.665|1.0274855E7| 1.0905679842E8|\n",
      "|2014-02-26| 10.68| 10.69| 10.51|10.525|  8740996.0|  9.249715499E7|\n",
      "|2014-02-27| 10.56| 10.57| 10.35|10.505| 1.203792E7| 1.2596515846E8|\n",
      "+----------+------+------+------+------+-----------+---------------+\n",
      "only showing top 10 rows\n",
      "\n"
     ]
    }
   ],
   "source": [
    "sdf = spark.createDataFrame(pdf, schema=stock_schema)\n",
    "sdf.show(10)"
   ]
  },
  {
   "cell_type": "code",
   "execution_count": 7,
   "metadata": {},
   "outputs": [
    {
     "name": "stdout",
     "output_type": "stream",
     "text": [
      "root\n",
      " |-- Date: date (nullable = true)\n",
      " |-- Open: double (nullable = true)\n",
      " |-- High: double (nullable = true)\n",
      " |-- Low: double (nullable = true)\n",
      " |-- Last: double (nullable = true)\n",
      " |-- Volumn: double (nullable = true)\n",
      " |-- Turnover: double (nullable = true)\n",
      "\n"
     ]
    }
   ],
   "source": [
    "sdf.printSchema()"
   ]
  },
  {
   "cell_type": "code",
   "execution_count": 8,
   "metadata": {},
   "outputs": [
    {
     "name": "stdout",
     "output_type": "stream",
     "text": [
      "+-------+------------------+------------------+------------------+------------------+--------------------+--------------------+\n",
      "|summary|              Open|              High|               Low|              Last|              Volumn|            Turnover|\n",
      "+-------+------------------+------------------+------------------+------------------+--------------------+--------------------+\n",
      "|  count|              1445|              1445|              1445|              1445|                1445|                1445|\n",
      "|   mean|12.205299653979235|12.324435294117649|12.067369550173012|12.195552941176468|1.7261211542560555E7|2.0791255484968305E8|\n",
      "| stddev|2.0229024862829093|2.0193729621124454|2.0247483405506155|2.0242312157165845|   7576531.360696883|  8.86876913860459E7|\n",
      "|    min|              8.35|             8.471|             8.197|             8.335|           1730312.0|       2.023141016E7|\n",
      "|    max|             16.64|            16.692|            16.516|            16.666|         9.7104846E7|     9.02233157705E8|\n",
      "+-------+------------------+------------------+------------------+------------------+--------------------+--------------------+\n",
      "\n"
     ]
    }
   ],
   "source": [
    "sdf.describe().show()"
   ]
  },
  {
   "cell_type": "markdown",
   "metadata": {},
   "source": [
    "### compares SQL query approach and the built-in function"
   ]
  },
  {
   "cell_type": "markdown",
   "metadata": {},
   "source": [
    "1. filter by conditions"
   ]
  },
  {
   "cell_type": "code",
   "execution_count": 9,
   "metadata": {},
   "outputs": [
    {
     "name": "stdout",
     "output_type": "stream",
     "text": [
      "+----------+-----+-----+------+------+-----------+---------------+\n",
      "|      Date| Open| High|   Low|  Last|     Volumn|       Turnover|\n",
      "+----------+-----+-----+------+------+-----------+---------------+\n",
      "|2018-01-12|16.63|16.69|16.494|16.612|1.4569804E7|2.41759308908E8|\n",
      "|2018-01-23|16.64|16.65|16.206|16.364|2.1670624E7|3.55128283566E8|\n",
      "+----------+-----+-----+------+------+-----------+---------------+\n",
      "\n"
     ]
    }
   ],
   "source": [
    "# filter using built-in functions\n",
    "spk_rslt = sdf.filter('high > 16.5' and 'open > 16.6')\n",
    "spk_rslt.show()"
   ]
  },
  {
   "cell_type": "code",
   "execution_count": 10,
   "metadata": {},
   "outputs": [
    {
     "name": "stdout",
     "output_type": "stream",
     "text": [
      "+----------+-----+-----+------+------+-----------+---------------+\n",
      "|      Date| Open| High|   Low|  Last|     Volumn|       Turnover|\n",
      "+----------+-----+-----+------+------+-----------+---------------+\n",
      "|2018-01-12|16.63|16.69|16.494|16.612|1.4569804E7|2.41759308908E8|\n",
      "|2018-01-23|16.64|16.65|16.206|16.364|2.1670624E7|3.55128283566E8|\n",
      "+----------+-----+-----+------+------+-----------+---------------+\n",
      "\n"
     ]
    }
   ],
   "source": [
    "# better way to apply muiltiple conditions\n",
    "condition1 = sdf['High'] > 16.5\n",
    "condition2 = sdf['Open'] > 16.6\n",
    "py_rslt = sdf.filter(condition1 & condition2)\n",
    "py_rslt.show()"
   ]
  },
  {
   "cell_type": "code",
   "execution_count": 11,
   "metadata": {},
   "outputs": [
    {
     "name": "stdout",
     "output_type": "stream",
     "text": [
      "+----------+-----+-----+------+------+-----------+---------------+\n",
      "|      Date| Open| High|   Low|  Last|     Volumn|       Turnover|\n",
      "+----------+-----+-----+------+------+-----------+---------------+\n",
      "|2018-01-12|16.63|16.69|16.494|16.612|1.4569804E7|2.41759308908E8|\n",
      "|2018-01-23|16.64|16.65|16.206|16.364|2.1670624E7|3.55128283566E8|\n",
      "+----------+-----+-----+------+------+-----------+---------------+\n",
      "\n"
     ]
    }
   ],
   "source": [
    "# filter using plain SQL query\n",
    "sdf.createOrReplaceTempView('temp1')\n",
    "sql_rslt = spark.sql('select * from temp1 where high > 16.5 and open > 16.6')\n",
    "sql_rslt.show()"
   ]
  },
  {
   "cell_type": "markdown",
   "metadata": {},
   "source": [
    "2. Aggregation Function - Group By"
   ]
  },
  {
   "cell_type": "code",
   "execution_count": 12,
   "metadata": {},
   "outputs": [
    {
     "name": "stdout",
     "output_type": "stream",
     "text": [
      "+----------+------+------+------+------+-----------+---------------+----+\n",
      "|      Date|  Open|  High|   Low|  Last|     Volumn|       Turnover|Year|\n",
      "+----------+------+------+------+------+-----------+---------------+----+\n",
      "|2014-02-14| 10.52| 10.64|10.515|  10.6|1.1457475E7| 1.2131352577E8|2014|\n",
      "|2014-02-17|10.655| 10.68| 10.59| 10.61|  7394038.0|  7.853364632E7|2014|\n",
      "|2014-02-18| 10.65| 10.65|10.515|10.605|1.1580469E7| 1.2276160587E8|2014|\n",
      "|2014-02-19|10.575|10.595|10.415|10.475|1.1410268E7| 1.1964634487E8|2014|\n",
      "|2014-02-20|  10.3|10.525|10.255|10.525| 1.263206E7| 1.3183630136E8|2014|\n",
      "|2014-02-21|  10.6|10.625|  10.5|10.545|1.1276993E7| 1.1893421816E8|2014|\n",
      "|2014-02-24|  10.5|10.615| 10.47|10.615| 1.008318E7|1.06631915945E8|2014|\n",
      "|2014-02-25|10.605| 10.67| 10.51|10.665|1.0274855E7| 1.0905679842E8|2014|\n",
      "|2014-02-26| 10.68| 10.69| 10.51|10.525|  8740996.0|  9.249715499E7|2014|\n",
      "|2014-02-27| 10.56| 10.57| 10.35|10.505| 1.203792E7| 1.2596515846E8|2014|\n",
      "+----------+------+------+------+------+-----------+---------------+----+\n",
      "only showing top 10 rows\n",
      "\n"
     ]
    }
   ],
   "source": [
    "# extract Year out of datetime\n",
    "sdf1 = sdf.withColumn('Year', year(sdf['Date']))\n",
    "sdf1.show(10)"
   ]
  },
  {
   "cell_type": "code",
   "execution_count": 13,
   "metadata": {},
   "outputs": [
    {
     "name": "stdout",
     "output_type": "stream",
     "text": [
      "+----+------------------+\n",
      "|Year|         avg(Last)|\n",
      "+----+------------------+\n",
      "|2018|12.720397637795275|\n",
      "|2015|13.368586065573764|\n",
      "|2014|10.546440191387559|\n",
      "|2019|10.193730434782614|\n",
      "|2016|11.072203124999994|\n",
      "|2017|14.866706349206348|\n",
      "+----+------------------+\n",
      "\n"
     ]
    }
   ],
   "source": [
    "# average yearly closing price using built-in function\n",
    "sdf1.groupBy('Year').mean('Last').alias('avg').show()"
   ]
  },
  {
   "cell_type": "code",
   "execution_count": 14,
   "metadata": {},
   "outputs": [
    {
     "name": "stdout",
     "output_type": "stream",
     "text": [
      "+----+------------------+\n",
      "|year|         avg(last)|\n",
      "+----+------------------+\n",
      "|2018|12.720397637795275|\n",
      "|2015|13.368586065573764|\n",
      "|2014|10.546440191387559|\n",
      "|2019|10.193730434782614|\n",
      "|2016|11.072203124999994|\n",
      "|2017|14.866706349206348|\n",
      "+----+------------------+\n",
      "\n"
     ]
    }
   ],
   "source": [
    "# average yearly closing price using plain SQL query\n",
    "sdf1.createOrReplaceTempView('temp2')\n",
    "spark.sql('select year, avg(last) from temp2 group by year').show()"
   ]
  }
 ],
 "metadata": {
  "kernelspec": {
   "display_name": "alphasparkenv",
   "language": "python",
   "name": "alphasparkenv"
  },
  "language_info": {
   "codemirror_mode": {
    "name": "ipython",
    "version": 3
   },
   "file_extension": ".py",
   "mimetype": "text/x-python",
   "name": "python",
   "nbconvert_exporter": "python",
   "pygments_lexer": "ipython3",
   "version": "3.7.3"
  }
 },
 "nbformat": 4,
 "nbformat_minor": 4
}
